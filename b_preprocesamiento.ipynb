{
  "cells": [
    {
      "cell_type": "markdown",
      "metadata": {
        "colab_type": "text",
        "id": "view-in-github"
      },
      "source": [
        "<a href=\"https://colab.research.google.com/github/Juanisazalu/ANALITICA-3/blob/main/Explotaci%C3%B3n_Datos.ipynb\" target=\"_parent\"><img src=\"https://colab.research.google.com/assets/colab-badge.svg\" alt=\"Open In Colab\"/></a>"
      ]
    },
    {
      "cell_type": "code",
      "execution_count": 3,
      "metadata": {
        "id": "Z6Jv-r6U0aO0"
      },
      "outputs": [],
      "source": [
        "import pandas as pd\n",
        "import numpy as np\n",
        "import sqlite3 as sql #### para bases de datos sql\n",
        "import a_funciones as funciones  ###archivo de funciones propias\n",
        "encuesta_empleado=pd.read_csv(\"data\\employee_survey_data.csv\")\n",
        "general_data=pd.read_csv(\"data\\general_data.csv\")\n",
        "encuesta_gerente=pd.read_csv(\"data\\manager_survey.csv\")\n",
        "info_retiros=pd.read_csv(\"data/retirement_info.csv\")\n",
        "encuesta_empleado.drop(\"Unnamed: 0\", axis=1, inplace=True)\n",
        "general_data.drop(\"Unnamed: 0\", axis=1, inplace=True)\n",
        "encuesta_gerente.drop(\"Unnamed: 0\", axis=1, inplace=True)\n",
        "info_retiros.drop(\"Unnamed: 0.1\", axis=1, inplace=True)\n",
        "info_retiros.drop(\"Unnamed: 0\", axis=1, inplace=True)"
      ]
    },
    {
      "cell_type": "code",
      "execution_count": 9,
      "metadata": {},
      "outputs": [
        {
          "data": {
            "text/html": [
              "<div>\n",
              "<style scoped>\n",
              "    .dataframe tbody tr th:only-of-type {\n",
              "        vertical-align: middle;\n",
              "    }\n",
              "\n",
              "    .dataframe tbody tr th {\n",
              "        vertical-align: top;\n",
              "    }\n",
              "\n",
              "    .dataframe thead th {\n",
              "        text-align: right;\n",
              "    }\n",
              "</style>\n",
              "<table border=\"1\" class=\"dataframe\">\n",
              "  <thead>\n",
              "    <tr style=\"text-align: right;\">\n",
              "      <th></th>\n",
              "      <th>EmployeeID</th>\n",
              "      <th>Attrition</th>\n",
              "      <th>retirementDate</th>\n",
              "      <th>retirementType</th>\n",
              "      <th>resignationReason</th>\n",
              "    </tr>\n",
              "  </thead>\n",
              "  <tbody>\n",
              "    <tr>\n",
              "      <th>0</th>\n",
              "      <td>2</td>\n",
              "      <td>Yes</td>\n",
              "      <td>2016-10-15</td>\n",
              "      <td>Resignation</td>\n",
              "      <td>Others</td>\n",
              "    </tr>\n",
              "    <tr>\n",
              "      <th>1</th>\n",
              "      <td>7</td>\n",
              "      <td>Yes</td>\n",
              "      <td>2016-07-20</td>\n",
              "      <td>Resignation</td>\n",
              "      <td>Stress</td>\n",
              "    </tr>\n",
              "    <tr>\n",
              "      <th>2</th>\n",
              "      <td>14</td>\n",
              "      <td>Yes</td>\n",
              "      <td>2016-11-08</td>\n",
              "      <td>Resignation</td>\n",
              "      <td>Others</td>\n",
              "    </tr>\n",
              "    <tr>\n",
              "      <th>3</th>\n",
              "      <td>29</td>\n",
              "      <td>Yes</td>\n",
              "      <td>2016-10-15</td>\n",
              "      <td>Resignation</td>\n",
              "      <td>Others</td>\n",
              "    </tr>\n",
              "    <tr>\n",
              "      <th>4</th>\n",
              "      <td>31</td>\n",
              "      <td>Yes</td>\n",
              "      <td>2016-02-08</td>\n",
              "      <td>Resignation</td>\n",
              "      <td>Salary</td>\n",
              "    </tr>\n",
              "  </tbody>\n",
              "</table>\n",
              "</div>"
            ],
            "text/plain": [
              "   EmployeeID Attrition retirementDate retirementType resignationReason\n",
              "0           2       Yes     2016-10-15    Resignation            Others\n",
              "1           7       Yes     2016-07-20    Resignation            Stress\n",
              "2          14       Yes     2016-11-08    Resignation            Others\n",
              "3          29       Yes     2016-10-15    Resignation            Others\n",
              "4          31       Yes     2016-02-08    Resignation            Salary"
            ]
          },
          "execution_count": 9,
          "metadata": {},
          "output_type": "execute_result"
        }
      ],
      "source": []
    }
  ],
  "metadata": {
    "colab": {
      "authorship_tag": "ABX9TyNOyASRDls8uviovHM723Jm",
      "include_colab_link": true,
      "provenance": []
    },
    "kernelspec": {
      "display_name": "Python 3",
      "name": "python3"
    },
    "language_info": {
      "codemirror_mode": {
        "name": "ipython",
        "version": 3
      },
      "file_extension": ".py",
      "mimetype": "text/x-python",
      "name": "python",
      "nbconvert_exporter": "python",
      "pygments_lexer": "ipython3",
      "version": "3.12.0"
    }
  },
  "nbformat": 4,
  "nbformat_minor": 0
}
