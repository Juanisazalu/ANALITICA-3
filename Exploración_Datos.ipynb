{
  "cells": [
    {
      "cell_type": "markdown",
      "metadata": {
        "colab_type": "text",
        "id": "view-in-github"
      },
      "source": [
        "<a href=\"https://colab.research.google.com/github/Juanisazalu/ANALITICA-3/blob/main/Explotaci%C3%B3n_Datos.ipynb\" target=\"_parent\"><img src=\"https://colab.research.google.com/assets/colab-badge.svg\" alt=\"Open In Colab\"/></a>"
      ]
    },
    {
      "cell_type": "code",
      "execution_count": 2,
      "metadata": {
        "id": "Z6Jv-r6U0aO0"
      },
      "outputs": [],
      "source": [
        "import pandas as pd\n",
        "import numpy as np\n",
        "encuesta_empleado=pd.read_csv(\"employee_survey_data.csv\")\n",
        "general_data=pd.read_csv(\"general_data.csv\")\n",
        "encuesta_gerente=pd.read_csv(\"manager_survey.csv\")\n",
        "info_retiros=pd.read_csv(\"retirement_info.csv\")\n",
        "encuesta_empleado.drop(\"Unnamed: 0\", axis=1, inplace=True)\n",
        "general_data.drop(\"Unnamed: 0\", axis=1, inplace=True)\n",
        "encuesta_gerente.drop(\"Unnamed: 0\", axis=1, inplace=True)\n",
        "info_retiros.drop(\"Unnamed: 0.1\", axis=1, inplace=True)\n",
        "info_retiros.drop(\"Unnamed: 0\", axis=1, inplace=True)"
      ]
    },
    {
      "cell_type": "code",
      "execution_count": null,
      "metadata": {},
      "outputs": [],
      "source": []
    }
  ],
  "metadata": {
    "colab": {
      "authorship_tag": "ABX9TyNOyASRDls8uviovHM723Jm",
      "include_colab_link": true,
      "provenance": []
    },
    "kernelspec": {
      "display_name": "Python 3",
      "name": "python3"
    },
    "language_info": {
      "codemirror_mode": {
        "name": "ipython",
        "version": 3
      },
      "file_extension": ".py",
      "mimetype": "text/x-python",
      "name": "python",
      "nbconvert_exporter": "python",
      "pygments_lexer": "ipython3",
      "version": "3.11.4"
    }
  },
  "nbformat": 4,
  "nbformat_minor": 0
}
