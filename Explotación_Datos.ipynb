{
  "nbformat": 4,
  "nbformat_minor": 0,
  "metadata": {
    "colab": {
      "provenance": [],
      "authorship_tag": "ABX9TyNOyASRDls8uviovHM723Jm",
      "include_colab_link": true
    },
    "kernelspec": {
      "name": "python3",
      "display_name": "Python 3"
    },
    "language_info": {
      "name": "python"
    }
  },
  "cells": [
    {
      "cell_type": "markdown",
      "metadata": {
        "id": "view-in-github",
        "colab_type": "text"
      },
      "source": [
        "<a href=\"https://colab.research.google.com/github/Juanisazalu/ANALITICA-3/blob/main/Explotaci%C3%B3n_Datos.ipynb\" target=\"_parent\"><img src=\"https://colab.research.google.com/assets/colab-badge.svg\" alt=\"Open In Colab\"/></a>"
      ]
    },
    {
      "cell_type": "code",
      "execution_count": null,
      "metadata": {
        "id": "Z6Jv-r6U0aO0"
      },
      "outputs": [],
      "source": [
        "import pandas as pd\n",
        "import numpy as np\n",
        "info_general=pd.read_csv(\"employee_survey_data.csv\")\n",
        "general_data=pd.read_csv(\"general_data.csv\")\n",
        "manager_survey=pd.read_csv(\"manager_survey.csv\")\n",
        "info_retiros=pd.read_csv(\"retirement_info.csv\")"
      ]
    },
    {
      "cell_type": "code",
      "source": [],
      "metadata": {
        "id": "S3jb6Mhk0gv6"
      },
      "execution_count": null,
      "outputs": []
    }
  ]
}